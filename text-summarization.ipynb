{
 "cells": [
  {
   "cell_type": "code",
   "execution_count": 1,
   "id": "661f5efa",
   "metadata": {},
   "outputs": [],
   "source": [
    "text = '''\n",
    "artificial intelligence (AI), the ability of a digital computer or computer-controlled robot to perform tasks commonly associated with intelligent beings. The term is frequently applied to the project of developing systems endowed with the intellectual processes characteristic of humans, such as the ability to reason, discover meaning, generalize, or learn from past experience. Since the development of the digital computer in the 1940s, it has been demonstrated that computers can be programmed to carry out very complex tasks—as, for example, discovering proofs for mathematical theorems or playing chess—with great proficiency. Still, despite continuing advances in computer processing speed and memory capacity, there are as yet no programs that can match human flexibility over wider domains or in tasks requiring much everyday knowledge. On the other hand, some programs have attained the performance levels of human experts and professionals in performing certain specific tasks, so that artificial intelligence in this limited sense is found in applications as diverse as medical diagnosis, computer search engines, and voice or handwriting recognition.\n",
    "'''"
   ]
  },
  {
   "cell_type": "code",
   "execution_count": 2,
   "id": "7dbb2ad7",
   "metadata": {},
   "outputs": [
    {
     "name": "stderr",
     "output_type": "stream",
     "text": [
      "2022-04-25 14:51:15.998342: W tensorflow/stream_executor/platform/default/dso_loader.cc:64] Could not load dynamic library 'libcudart.so.11.0'; dlerror: libcudart.so.11.0: cannot open shared object file: No such file or directory\n",
      "2022-04-25 14:51:15.998402: I tensorflow/stream_executor/cuda/cudart_stub.cc:29] Ignore above cudart dlerror if you do not have a GPU set up on your machine.\n"
     ]
    }
   ],
   "source": [
    "import spacy\n",
    "from spacy.lang.en.stop_words import STOP_WORDS\n",
    "from string import punctuation"
   ]
  },
  {
   "cell_type": "code",
   "execution_count": 15,
   "id": "750684d8",
   "metadata": {
    "scrolled": false
   },
   "outputs": [
    {
     "data": {
      "text/plain": [
       "['somehow',\n",
       " '’re',\n",
       " 'becomes',\n",
       " 'whereafter',\n",
       " 'own',\n",
       " 'he',\n",
       " \"'ve\",\n",
       " 'twelve',\n",
       " 'make',\n",
       " 'thence',\n",
       " 'have',\n",
       " 'doing',\n",
       " 'wherever',\n",
       " 'some',\n",
       " 'whereby',\n",
       " 'move',\n",
       " 'yours',\n",
       " 'on',\n",
       " 'towards',\n",
       " 'two',\n",
       " 'nor',\n",
       " 'within',\n",
       " 'herself',\n",
       " 'each',\n",
       " 'nine',\n",
       " 'being',\n",
       " 'anything',\n",
       " 'just',\n",
       " 'four',\n",
       " 'if',\n",
       " 'side',\n",
       " 'yourself',\n",
       " 'does',\n",
       " 'every',\n",
       " 'its',\n",
       " 'am',\n",
       " 'ten',\n",
       " 'eleven',\n",
       " 'else',\n",
       " 'into',\n",
       " 'nevertheless',\n",
       " 'with',\n",
       " '‘ll',\n",
       " 'upon',\n",
       " '‘d',\n",
       " \"n't\",\n",
       " 'thereafter',\n",
       " 'off',\n",
       " 'perhaps',\n",
       " 'here',\n",
       " 'none',\n",
       " '‘re',\n",
       " 'anyway',\n",
       " 'either',\n",
       " 'which',\n",
       " 'third',\n",
       " 'others',\n",
       " 'can',\n",
       " 'therefore',\n",
       " 'below',\n",
       " 'from',\n",
       " 'becoming',\n",
       " 'an',\n",
       " 'me',\n",
       " 'it',\n",
       " 'himself',\n",
       " 'those',\n",
       " 'throughout',\n",
       " 'least',\n",
       " 'ourselves',\n",
       " 'where',\n",
       " 'should',\n",
       " 'get',\n",
       " 'might',\n",
       " 'whither',\n",
       " 'sometimes',\n",
       " 'whereas',\n",
       " 'together',\n",
       " 'during',\n",
       " 'beside',\n",
       " 'for',\n",
       " 'myself',\n",
       " 'too',\n",
       " 'are',\n",
       " 'all',\n",
       " 'besides',\n",
       " 'her',\n",
       " 'may',\n",
       " 'since',\n",
       " 'there',\n",
       " 'they',\n",
       " 'became',\n",
       " 'former',\n",
       " \"'d\",\n",
       " 'across',\n",
       " 'otherwise',\n",
       " 'go',\n",
       " 'serious',\n",
       " 'once',\n",
       " 'enough',\n",
       " 'much',\n",
       " 'along',\n",
       " 'most',\n",
       " 'part',\n",
       " 'his',\n",
       " 'by',\n",
       " 'yet',\n",
       " 'noone',\n",
       " 'was',\n",
       " 'will',\n",
       " 'forty',\n",
       " 'among',\n",
       " 'alone',\n",
       " 'whatever',\n",
       " '’ll',\n",
       " '’m',\n",
       " 'see',\n",
       " 'hereupon',\n",
       " 'sometime',\n",
       " 'at',\n",
       " 'front',\n",
       " 'full',\n",
       " 'namely',\n",
       " 'six',\n",
       " 'ca',\n",
       " 'when',\n",
       " 'except',\n",
       " 'elsewhere',\n",
       " 'how',\n",
       " 'further',\n",
       " 'done',\n",
       " 'already',\n",
       " 'same',\n",
       " 'latter',\n",
       " \"'ll\",\n",
       " 'bottom',\n",
       " 'latterly',\n",
       " 'please',\n",
       " 'then',\n",
       " 'formerly',\n",
       " 'never',\n",
       " \"'s\",\n",
       " 'than',\n",
       " 'keep',\n",
       " 'their',\n",
       " 'onto',\n",
       " \"'m\",\n",
       " 'down',\n",
       " 'few',\n",
       " 'between',\n",
       " 'someone',\n",
       " 'name',\n",
       " 'although',\n",
       " 'everyone',\n",
       " 'cannot',\n",
       " 'made',\n",
       " 'over',\n",
       " 'regarding',\n",
       " 'themselves',\n",
       " 'so',\n",
       " '’s',\n",
       " 'must',\n",
       " 'five',\n",
       " 'anyone',\n",
       " 'or',\n",
       " 'put',\n",
       " 'without',\n",
       " 'any',\n",
       " 'whom',\n",
       " 'mostly',\n",
       " 'amongst',\n",
       " 'n’t',\n",
       " 'be',\n",
       " 'using',\n",
       " 'ever',\n",
       " '‘s',\n",
       " 'seem',\n",
       " '‘ve',\n",
       " 'what',\n",
       " 'and',\n",
       " 'unless',\n",
       " 'though',\n",
       " 'therein',\n",
       " 'above',\n",
       " 'everywhere',\n",
       " 'another',\n",
       " 'you',\n",
       " 'why',\n",
       " 'thus',\n",
       " 'our',\n",
       " 'beforehand',\n",
       " 'amount',\n",
       " 'empty',\n",
       " 'via',\n",
       " 'seems',\n",
       " 'top',\n",
       " 'twenty',\n",
       " 'seemed',\n",
       " 'yourselves',\n",
       " 'really',\n",
       " 'a',\n",
       " 'we',\n",
       " 'indeed',\n",
       " 'whole',\n",
       " 'quite',\n",
       " \"'re\",\n",
       " 'the',\n",
       " 'other',\n",
       " 'because',\n",
       " 'until',\n",
       " 'while',\n",
       " 'again',\n",
       " 'show',\n",
       " 'something',\n",
       " 'first',\n",
       " 'had',\n",
       " 'your',\n",
       " 'has',\n",
       " 'anyhow',\n",
       " 'various',\n",
       " 'mine',\n",
       " 'also',\n",
       " 'around',\n",
       " 'meanwhile',\n",
       " 'would',\n",
       " 'hence',\n",
       " 'she',\n",
       " 'sixty',\n",
       " 'take',\n",
       " 'been',\n",
       " 'three',\n",
       " 'my',\n",
       " 'always',\n",
       " 'these',\n",
       " 'whereupon',\n",
       " 'toward',\n",
       " 'fifty',\n",
       " 'one',\n",
       " 'but',\n",
       " 'anywhere',\n",
       " 'only',\n",
       " 'both',\n",
       " 'nothing',\n",
       " 'per',\n",
       " 'almost',\n",
       " 'whoever',\n",
       " 'wherein',\n",
       " 're',\n",
       " 'hundred',\n",
       " 'do',\n",
       " 'did',\n",
       " 'thereby',\n",
       " 'who',\n",
       " 'in',\n",
       " 'less',\n",
       " 'however',\n",
       " 'of',\n",
       " 'many',\n",
       " 'whose',\n",
       " 'eight',\n",
       " 'is',\n",
       " 'very',\n",
       " 'still',\n",
       " 'used',\n",
       " 'out',\n",
       " 'now',\n",
       " 'after',\n",
       " 'behind',\n",
       " 'ours',\n",
       " 'moreover',\n",
       " 'fifteen',\n",
       " 'through',\n",
       " 'thru',\n",
       " 'whence',\n",
       " 'as',\n",
       " 'more',\n",
       " 'to',\n",
       " 'nowhere',\n",
       " 'him',\n",
       " 'hers',\n",
       " 'beyond',\n",
       " 'thereupon',\n",
       " 'hereafter',\n",
       " 'up',\n",
       " 'hereby',\n",
       " 'whether',\n",
       " '‘m',\n",
       " 'several',\n",
       " 'itself',\n",
       " 'rather',\n",
       " 'under',\n",
       " 'give',\n",
       " 'before',\n",
       " 'us',\n",
       " 'last',\n",
       " 'well',\n",
       " 'them',\n",
       " 'nobody',\n",
       " 'about',\n",
       " 'often',\n",
       " 'neither',\n",
       " 'even',\n",
       " 'somewhere',\n",
       " 'such',\n",
       " 'i',\n",
       " 'say',\n",
       " 'against',\n",
       " 'back',\n",
       " 'everything',\n",
       " 'no',\n",
       " 'become',\n",
       " 'not',\n",
       " 'this',\n",
       " 'n‘t',\n",
       " '’d',\n",
       " 'could',\n",
       " 'that',\n",
       " 'seeming',\n",
       " '’ve',\n",
       " 'afterwards',\n",
       " 'next',\n",
       " 'call',\n",
       " 'were',\n",
       " 'due',\n",
       " 'whenever',\n",
       " 'herein']"
      ]
     },
     "execution_count": 15,
     "metadata": {},
     "output_type": "execute_result"
    }
   ],
   "source": [
    "stopwords = list(STOP_WORDS)\n",
    "stopwords"
   ]
  },
  {
   "cell_type": "markdown",
   "id": "09a562d0",
   "metadata": {},
   "source": [
    "creating the nlp model"
   ]
  },
  {
   "cell_type": "code",
   "execution_count": 16,
   "id": "3168c456",
   "metadata": {},
   "outputs": [],
   "source": [
    "nlp = spacy.load('en_core_web_sm')"
   ]
  },
  {
   "cell_type": "code",
   "execution_count": 13,
   "id": "04cc974c",
   "metadata": {},
   "outputs": [],
   "source": [
    "doc = nlp(text)"
   ]
  },
  {
   "cell_type": "markdown",
   "id": "fd1277f9",
   "metadata": {},
   "source": [
    "text tokenization"
   ]
  },
  {
   "cell_type": "code",
   "execution_count": 14,
   "id": "c53196a8",
   "metadata": {},
   "outputs": [
    {
     "name": "stdout",
     "output_type": "stream",
     "text": [
      "['\\n', 'artificial', 'intelligence', '(', 'AI', ')', ',', 'the', 'ability', 'of', 'a', 'digital', 'computer', 'or', 'computer', '-', 'controlled', 'robot', 'to', 'perform', 'tasks', 'commonly', 'associated', 'with', 'intelligent', 'beings', '.', 'The', 'term', 'is', 'frequently', 'applied', 'to', 'the', 'project', 'of', 'developing', 'systems', 'endowed', 'with', 'the', 'intellectual', 'processes', 'characteristic', 'of', 'humans', ',', 'such', 'as', 'the', 'ability', 'to', 'reason', ',', 'discover', 'meaning', ',', 'generalize', ',', 'or', 'learn', 'from', 'past', 'experience', '.', 'Since', 'the', 'development', 'of', 'the', 'digital', 'computer', 'in', 'the', '1940s', ',', 'it', 'has', 'been', 'demonstrated', 'that', 'computers', 'can', 'be', 'programmed', 'to', 'carry', 'out', 'very', 'complex', 'tasks', '—', 'as', ',', 'for', 'example', ',', 'discovering', 'proofs', 'for', 'mathematical', 'theorems', 'or', 'playing', 'chess', '—', 'with', 'great', 'proficiency', '.', 'Still', ',', 'despite', 'continuing', 'advances', 'in', 'computer', 'processing', 'speed', 'and', 'memory', 'capacity', ',', 'there', 'are', 'as', 'yet', 'no', 'programs', 'that', 'can', 'match', 'human', 'flexibility', 'over', 'wider', 'domains', 'or', 'in', 'tasks', 'requiring', 'much', 'everyday', 'knowledge', '.', 'On', 'the', 'other', 'hand', ',', 'some', 'programs', 'have', 'attained', 'the', 'performance', 'levels', 'of', 'human', 'experts', 'and', 'professionals', 'in', 'performing', 'certain', 'specific', 'tasks', ',', 'so', 'that', 'artificial', 'intelligence', 'in', 'this', 'limited', 'sense', 'is', 'found', 'in', 'applications', 'as', 'diverse', 'as', 'medical', 'diagnosis', ',', 'computer', 'search', 'engines', ',', 'and', 'voice', 'or', 'handwriting', 'recognition', '.', '\\n\\n\\n\\n\\n']\n"
     ]
    }
   ],
   "source": [
    "tokens = [token.text for token in doc]\n",
    "print(tokens)"
   ]
  },
  {
   "cell_type": "code",
   "execution_count": 17,
   "id": "91f6e4f0",
   "metadata": {},
   "outputs": [
    {
     "data": {
      "text/plain": [
       "'!\"#$%&\\'()*+,-./:;<=>?@[\\\\]^_`{|}~\\n'"
      ]
     },
     "execution_count": 17,
     "metadata": {},
     "output_type": "execute_result"
    }
   ],
   "source": [
    "punctuation = punctuation + '\\n'\n",
    "punctuation"
   ]
  },
  {
   "cell_type": "code",
   "execution_count": 18,
   "id": "6abf4c22",
   "metadata": {},
   "outputs": [],
   "source": [
    "word_frequencies = {}\n",
    "for word in doc:\n",
    "    if word.text.lower() not in stopwords:\n",
    "        if word.text.lower() not in punctuation:\n",
    "            if word.text not in word_frequencies.keys():\n",
    "                word_frequencies[word.text] = 1\n",
    "            else:\n",
    "                word_frequencies[word.text] += 1\n",
    "                \n",
    "            "
   ]
  },
  {
   "cell_type": "code",
   "execution_count": 19,
   "id": "c6ebf39c",
   "metadata": {},
   "outputs": [
    {
     "data": {
      "text/plain": [
       "{'artificial': 2,\n",
       " 'intelligence': 2,\n",
       " 'AI': 1,\n",
       " 'ability': 2,\n",
       " 'digital': 2,\n",
       " 'computer': 5,\n",
       " 'controlled': 1,\n",
       " 'robot': 1,\n",
       " 'perform': 1,\n",
       " 'tasks': 4,\n",
       " 'commonly': 1,\n",
       " 'associated': 1,\n",
       " 'intelligent': 1,\n",
       " 'beings': 1,\n",
       " 'term': 1,\n",
       " 'frequently': 1,\n",
       " 'applied': 1,\n",
       " 'project': 1,\n",
       " 'developing': 1,\n",
       " 'systems': 1,\n",
       " 'endowed': 1,\n",
       " 'intellectual': 1,\n",
       " 'processes': 1,\n",
       " 'characteristic': 1,\n",
       " 'humans': 1,\n",
       " 'reason': 1,\n",
       " 'discover': 1,\n",
       " 'meaning': 1,\n",
       " 'generalize': 1,\n",
       " 'learn': 1,\n",
       " 'past': 1,\n",
       " 'experience': 1,\n",
       " 'development': 1,\n",
       " '1940s': 1,\n",
       " 'demonstrated': 1,\n",
       " 'computers': 1,\n",
       " 'programmed': 1,\n",
       " 'carry': 1,\n",
       " 'complex': 1,\n",
       " '—': 2,\n",
       " 'example': 1,\n",
       " 'discovering': 1,\n",
       " 'proofs': 1,\n",
       " 'mathematical': 1,\n",
       " 'theorems': 1,\n",
       " 'playing': 1,\n",
       " 'chess': 1,\n",
       " 'great': 1,\n",
       " 'proficiency': 1,\n",
       " 'despite': 1,\n",
       " 'continuing': 1,\n",
       " 'advances': 1,\n",
       " 'processing': 1,\n",
       " 'speed': 1,\n",
       " 'memory': 1,\n",
       " 'capacity': 1,\n",
       " 'programs': 2,\n",
       " 'match': 1,\n",
       " 'human': 2,\n",
       " 'flexibility': 1,\n",
       " 'wider': 1,\n",
       " 'domains': 1,\n",
       " 'requiring': 1,\n",
       " 'everyday': 1,\n",
       " 'knowledge': 1,\n",
       " 'hand': 1,\n",
       " 'attained': 1,\n",
       " 'performance': 1,\n",
       " 'levels': 1,\n",
       " 'experts': 1,\n",
       " 'professionals': 1,\n",
       " 'performing': 1,\n",
       " 'certain': 1,\n",
       " 'specific': 1,\n",
       " 'limited': 1,\n",
       " 'sense': 1,\n",
       " 'found': 1,\n",
       " 'applications': 1,\n",
       " 'diverse': 1,\n",
       " 'medical': 1,\n",
       " 'diagnosis': 1,\n",
       " 'search': 1,\n",
       " 'engines': 1,\n",
       " 'voice': 1,\n",
       " 'handwriting': 1,\n",
       " 'recognition': 1,\n",
       " '\\n\\n\\n\\n\\n': 1}"
      ]
     },
     "execution_count": 19,
     "metadata": {},
     "output_type": "execute_result"
    }
   ],
   "source": [
    "word_frequencies"
   ]
  },
  {
   "cell_type": "code",
   "execution_count": 20,
   "id": "09334f4e",
   "metadata": {},
   "outputs": [],
   "source": [
    "max_frequency = max(word_frequencies.values())\n"
   ]
  },
  {
   "cell_type": "code",
   "execution_count": 21,
   "id": "fbfee292",
   "metadata": {},
   "outputs": [
    {
     "data": {
      "text/plain": [
       "5"
      ]
     },
     "execution_count": 21,
     "metadata": {},
     "output_type": "execute_result"
    }
   ],
   "source": [
    "max_frequency\n"
   ]
  },
  {
   "cell_type": "code",
   "execution_count": 22,
   "id": "8115706e",
   "metadata": {},
   "outputs": [],
   "source": [
    "for word in word_frequencies.keys():\n",
    "    word_frequencies[word] = word_frequencies[word]/max(word_frequencies.values())\n",
    "    "
   ]
  },
  {
   "cell_type": "code",
   "execution_count": 23,
   "id": "42445516",
   "metadata": {},
   "outputs": [
    {
     "name": "stdout",
     "output_type": "stream",
     "text": [
      "{'artificial': 0.4, 'intelligence': 0.4, 'AI': 0.2, 'ability': 0.4, 'digital': 0.4, 'computer': 1.0, 'controlled': 0.25, 'robot': 0.25, 'perform': 0.25, 'tasks': 1.0, 'commonly': 0.5, 'associated': 0.5, 'intelligent': 0.5, 'beings': 0.5, 'term': 0.5, 'frequently': 0.5, 'applied': 0.5, 'project': 0.5, 'developing': 0.5, 'systems': 0.5, 'endowed': 0.5, 'intellectual': 0.5, 'processes': 0.5, 'characteristic': 0.5, 'humans': 0.5, 'reason': 0.5, 'discover': 0.5, 'meaning': 0.5, 'generalize': 0.5, 'learn': 0.5, 'past': 0.5, 'experience': 0.5, 'development': 0.5, '1940s': 0.5, 'demonstrated': 0.5, 'computers': 0.5, 'programmed': 0.5, 'carry': 0.5, 'complex': 0.5, '—': 1.0, 'example': 0.5, 'discovering': 0.5, 'proofs': 0.5, 'mathematical': 0.5, 'theorems': 0.5, 'playing': 0.5, 'chess': 0.5, 'great': 0.5, 'proficiency': 0.5, 'despite': 0.5, 'continuing': 0.5, 'advances': 0.5, 'processing': 0.5, 'speed': 0.5, 'memory': 0.5, 'capacity': 0.5, 'programs': 1.0, 'match': 0.5, 'human': 1.0, 'flexibility': 1.0, 'wider': 1.0, 'domains': 1.0, 'requiring': 1.0, 'everyday': 1.0, 'knowledge': 1.0, 'hand': 1.0, 'attained': 1.0, 'performance': 1.0, 'levels': 1.0, 'experts': 1.0, 'professionals': 1.0, 'performing': 1.0, 'certain': 1.0, 'specific': 1.0, 'limited': 1.0, 'sense': 1.0, 'found': 1.0, 'applications': 1.0, 'diverse': 1.0, 'medical': 1.0, 'diagnosis': 1.0, 'search': 1.0, 'engines': 1.0, 'voice': 1.0, 'handwriting': 1.0, 'recognition': 1.0, '\\n\\n\\n\\n\\n': 1.0}\n"
     ]
    }
   ],
   "source": [
    "print(word_frequencies)\n"
   ]
  },
  {
   "cell_type": "code",
   "execution_count": 24,
   "id": "2602dc99",
   "metadata": {},
   "outputs": [
    {
     "name": "stdout",
     "output_type": "stream",
     "text": [
      "[\n",
      "artificial intelligence (AI), the ability of a digital computer or computer-controlled robot to perform tasks commonly associated with intelligent beings., The term is frequently applied to the project of developing systems endowed with the intellectual processes characteristic of humans, such as the ability to reason, discover meaning, generalize, or learn from past experience., Since the development of the digital computer in the 1940s, it has been demonstrated that computers can be programmed to carry out very complex tasks—as, for example, discovering proofs for mathematical theorems or playing chess—with great proficiency., Still, despite continuing advances in computer processing speed and memory capacity, there are as yet no programs that can match human flexibility over wider domains or in tasks requiring much everyday knowledge., On the other hand, some programs have attained the performance levels of human experts and professionals in performing certain specific tasks, so that artificial intelligence in this limited sense is found in applications as diverse as medical diagnosis, computer search engines, and voice or handwriting recognition., \n",
      "\n",
      "\n",
      "\n",
      "\n",
      "]\n"
     ]
    }
   ],
   "source": [
    "sentence_tokens = [sent for sent in doc.sents]\n",
    "print(sentence_tokens)"
   ]
  },
  {
   "cell_type": "code",
   "execution_count": 25,
   "id": "6e07de6b",
   "metadata": {},
   "outputs": [],
   "source": [
    "sentence_scores = {}\n",
    "for sent in sentence_tokens:\n",
    "    for word in sent:\n",
    "        if word.text.lower() in word_frequencies.keys():\n",
    "            if sent not in sentence_scores.keys():\n",
    "                sentence_scores[sent] = word_frequencies[word.text.lower()]\n",
    "            else:\n",
    "                sentence_scores[sent] += word_frequencies[word.text.lower()]"
   ]
  },
  {
   "cell_type": "code",
   "execution_count": 26,
   "id": "4394feed",
   "metadata": {},
   "outputs": [
    {
     "data": {
      "text/plain": [
       "{\n",
       " artificial intelligence (AI), the ability of a digital computer or computer-controlled robot to perform tasks commonly associated with intelligent beings.: 7.35,\n",
       " The term is frequently applied to the project of developing systems endowed with the intellectual processes characteristic of humans, such as the ability to reason, discover meaning, generalize, or learn from past experience.: 9.4,\n",
       " Since the development of the digital computer in the 1940s, it has been demonstrated that computers can be programmed to carry out very complex tasks—as, for example, discovering proofs for mathematical theorems or playing chess—with great proficiency.: 12.4,\n",
       " Still, despite continuing advances in computer processing speed and memory capacity, there are as yet no programs that can match human flexibility over wider domains or in tasks requiring much everyday knowledge.: 14.0,\n",
       " On the other hand, some programs have attained the performance levels of human experts and professionals in performing certain specific tasks, so that artificial intelligence in this limited sense is found in applications as diverse as medical diagnosis, computer search engines, and voice or handwriting recognition.: 25.8,\n",
       " \n",
       " \n",
       " \n",
       " \n",
       " : 1.0}"
      ]
     },
     "execution_count": 26,
     "metadata": {},
     "output_type": "execute_result"
    }
   ],
   "source": [
    "sentence_scores"
   ]
  },
  {
   "cell_type": "code",
   "execution_count": 27,
   "id": "5c5baf9d",
   "metadata": {},
   "outputs": [],
   "source": [
    "from heapq import nlargest"
   ]
  },
  {
   "cell_type": "code",
   "execution_count": 28,
   "id": "56e2c3cd",
   "metadata": {},
   "outputs": [
    {
     "data": {
      "text/plain": [
       "1"
      ]
     },
     "execution_count": 28,
     "metadata": {},
     "output_type": "execute_result"
    }
   ],
   "source": [
    "select_length = int(len(sentence_tokens) * 0.3)\n",
    "select_length"
   ]
  },
  {
   "cell_type": "code",
   "execution_count": 29,
   "id": "0088fdda",
   "metadata": {},
   "outputs": [],
   "source": [
    "summary = nlargest(select_length, sentence_scores, key = sentence_scores.get)"
   ]
  },
  {
   "cell_type": "code",
   "execution_count": 30,
   "id": "ece851b3",
   "metadata": {},
   "outputs": [
    {
     "data": {
      "text/plain": [
       "[On the other hand, some programs have attained the performance levels of human experts and professionals in performing certain specific tasks, so that artificial intelligence in this limited sense is found in applications as diverse as medical diagnosis, computer search engines, and voice or handwriting recognition.]"
      ]
     },
     "execution_count": 30,
     "metadata": {},
     "output_type": "execute_result"
    }
   ],
   "source": [
    "summary\n"
   ]
  },
  {
   "cell_type": "code",
   "execution_count": 31,
   "id": "4838d9e8",
   "metadata": {},
   "outputs": [],
   "source": [
    "final_summary = [word.text for word in summary]"
   ]
  },
  {
   "cell_type": "code",
   "execution_count": 32,
   "id": "93ac00ae",
   "metadata": {},
   "outputs": [
    {
     "data": {
      "text/plain": [
       "['On the other hand, some programs have attained the performance levels of human experts and professionals in performing certain specific tasks, so that artificial intelligence in this limited sense is found in applications as diverse as medical diagnosis, computer search engines, and voice or handwriting recognition.']"
      ]
     },
     "execution_count": 32,
     "metadata": {},
     "output_type": "execute_result"
    }
   ],
   "source": [
    "final_summary"
   ]
  },
  {
   "cell_type": "code",
   "execution_count": 33,
   "id": "c6666229",
   "metadata": {},
   "outputs": [],
   "source": [
    "summary = ' '.join(final_summary)"
   ]
  },
  {
   "cell_type": "code",
   "execution_count": 34,
   "id": "01f31ed4",
   "metadata": {},
   "outputs": [
    {
     "name": "stdout",
     "output_type": "stream",
     "text": [
      "\n",
      "artificial intelligence (AI), the ability of a digital computer or computer-controlled robot to perform tasks commonly associated with intelligent beings. The term is frequently applied to the project of developing systems endowed with the intellectual processes characteristic of humans, such as the ability to reason, discover meaning, generalize, or learn from past experience. Since the development of the digital computer in the 1940s, it has been demonstrated that computers can be programmed to carry out very complex tasks—as, for example, discovering proofs for mathematical theorems or playing chess—with great proficiency. Still, despite continuing advances in computer processing speed and memory capacity, there are as yet no programs that can match human flexibility over wider domains or in tasks requiring much everyday knowledge. On the other hand, some programs have attained the performance levels of human experts and professionals in performing certain specific tasks, so that artificial intelligence in this limited sense is found in applications as diverse as medical diagnosis, computer search engines, and voice or handwriting recognition.\n",
      "\n",
      "\n",
      "\n",
      "\n",
      "\n"
     ]
    }
   ],
   "source": [
    "print(text)"
   ]
  },
  {
   "cell_type": "code",
   "execution_count": 35,
   "id": "f48987c1",
   "metadata": {
    "scrolled": true
   },
   "outputs": [
    {
     "name": "stdout",
     "output_type": "stream",
     "text": [
      "On the other hand, some programs have attained the performance levels of human experts and professionals in performing certain specific tasks, so that artificial intelligence in this limited sense is found in applications as diverse as medical diagnosis, computer search engines, and voice or handwriting recognition.\n"
     ]
    }
   ],
   "source": [
    "print(summary)"
   ]
  },
  {
   "cell_type": "code",
   "execution_count": 36,
   "id": "daf7788a",
   "metadata": {},
   "outputs": [
    {
     "data": {
      "text/plain": [
       "1170"
      ]
     },
     "execution_count": 36,
     "metadata": {},
     "output_type": "execute_result"
    }
   ],
   "source": [
    "len(text)"
   ]
  },
  {
   "cell_type": "code",
   "execution_count": 38,
   "id": "458f786f",
   "metadata": {},
   "outputs": [
    {
     "data": {
      "text/plain": [
       "317"
      ]
     },
     "execution_count": 38,
     "metadata": {},
     "output_type": "execute_result"
    }
   ],
   "source": [
    "len(summary)"
   ]
  }
 ],
 "metadata": {
  "kernelspec": {
   "display_name": "Python 3.10.6 64-bit",
   "language": "python",
   "name": "python3"
  },
  "language_info": {
   "codemirror_mode": {
    "name": "ipython",
    "version": 3
   },
   "file_extension": ".py",
   "mimetype": "text/x-python",
   "name": "python",
   "nbconvert_exporter": "python",
   "pygments_lexer": "ipython3",
   "version": "3.10.6"
  },
  "vscode": {
   "interpreter": {
    "hash": "916dbcbb3f70747c44a77c7bcd40155683ae19c65e1c03b4aa3499c5328201f1"
   }
  }
 },
 "nbformat": 4,
 "nbformat_minor": 5
}
